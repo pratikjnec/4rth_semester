{
 "cells": [
  {
   "cell_type": "code",
   "execution_count": 104,
   "id": "b7c03a98-a6af-480f-9606-48693ac513fd",
   "metadata": {},
   "outputs": [
    {
     "name": "stdout",
     "output_type": "stream",
     "text": [
      "my dictionary is {'name': 'pratik', 'lastname': 'kolhe', 'class': 'cse sy3', 'prn': 22404319}\n",
      "\n",
      "from my dictionary prn is 22404319\n",
      "\n",
      "type of my_dictionary <class 'dict'>\n",
      "\n",
      "created random_name using fromkeys function of dict class {1: 'pratik', 2: 'sakshi', 3: 'pranav', 4: 'unnati', 5: 'atharva'}\n",
      "\n",
      "pratik\n"
     ]
    }
   ],
   "source": [
    "my_dictionary = {\n",
    "    \"name\":\"pratik\",\n",
    "    \"lastname\":\"kolhe\",\n",
    "    \"class\":\"cse sy3\",\n",
    "    \"prn\":22404319\n",
    "}\n",
    "\n",
    "print(\"my dictionary is \" + str(my_dictionary))\n",
    "print()\n",
    "print(\"from my dictionary prn is \" + str(my_dictionary[\"prn\"]))\n",
    "print()\n",
    "print(\"type of my_dictionary \" + str(type(my_dictionary)))\n",
    "print()\n",
    "\n",
    "random_name = dict()\n",
    "random_name_keys = [1, 2, 3, 4, 5]\n",
    "random_name_values = [\"pratik\", \"sakshi\", \"pranav\", \"unnati\", \"atharva\"]\n",
    "random_name = dict(zip(random_name_keys, random_name_values))\n",
    "print(\"created random_name using fromkeys function of dict class \" + str(random_name))\n",
    "\n",
    "some = dict(\n",
    "    {\"name\":\"pratik\"}\n",
    ")\n",
    "print()\n",
    "print(some[\"name\"])\n"
   ]
  },
  {
   "cell_type": "code",
   "execution_count": 100,
   "id": "fe503da2-a419-433b-9000-0e84de995828",
   "metadata": {},
   "outputs": [
    {
     "name": "stdout",
     "output_type": "stream",
     "text": [
      "Dictionary: {'101': 'Alice', '102': 'Bob', '103': 'Charlie'}\n",
      "List: ['Math', 'Physics', 'Chemistry']\n",
      "String: Hello, Alice!\n",
      "Updated Dictionary: {'101': 'Alice', '102': 'Bob', '103': 'Charlie', '104': 'David'}\n",
      "Updated List: ['Math', 'Physics', 'Chemistry', 'Biology']\n",
      "Uppercase String: HELLO, ALICE!\n"
     ]
    }
   ],
   "source": [
    "students = {\n",
    "    '101': 'Alice',\n",
    "    '102': 'Bob',\n",
    "    '103': 'Charlie'\n",
    "}\n",
    "\n",
    "subjects = ['Math', 'Physics', 'Chemistry']\n",
    "\n",
    "greeting = 'Hello, ' + students['101'] + '!'\n",
    "\n",
    "print('Dictionary:', students)\n",
    "print('List:', subjects)\n",
    "print('String:', greeting)\n",
    "\n",
    "students['104'] = 'David'\n",
    "print('Updated Dictionary:', students)\n",
    "\n",
    "subjects.append('Biology')\n",
    "print('Updated List:', subjects)\n",
    "\n",
    "welcome_message = greeting.upper()\n",
    "print('Uppercase String:', welcome_message)\n"
   ]
  },
  {
   "cell_type": "code",
   "execution_count": 101,
   "id": "fc1c1314-542b-4510-b794-332d4418714c",
   "metadata": {
    "scrolled": true
   },
   "outputs": [
    {
     "name": "stdout",
     "output_type": "stream",
     "text": [
      "[[1, 2, 3], [5, 6, 7]]\n",
      "\n",
      "type of l <class 'list'>\n",
      "type of al <class 'list'>\n",
      "type of bl <class 'list'>\n",
      "\n",
      "[[1, 2, 3], [5, 6, 7]]\n",
      "\n",
      "2\n"
     ]
    }
   ],
   "source": [
    "l = [1, 2, 3]\n",
    "al = [5, 6, 7]\n",
    "bl = []\n",
    "bl.append(l)\n",
    "bl.append(al)\n",
    "print(bl)\n",
    "print()\n",
    "print(\"type of l \" + str(type(l)))\n",
    "print(\"type of al \" + str(type(al)))\n",
    "print(\"type of bl \" + str(type(bl)))\n",
    "print()\n",
    "cl = [l, al]\n",
    "print(cl)\n",
    "print()\n",
    "print(cl[0][1])\n"
   ]
  },
  {
   "cell_type": "code",
   "execution_count": 1,
   "id": "d6ba3b37-4b6d-4951-b979-d3b02db8de37",
   "metadata": {},
   "outputs": [
    {
     "name": "stdout",
     "output_type": "stream",
     "text": [
      "my string is pratik\n",
      "\n",
      "size of my_str pratik is 6\n",
      "{1: 'p', 2: 'r', 3: 'a', 4: 't', 5: 'i', 6: 'k'}\n"
     ]
    }
   ],
   "source": [
    "my_str = \"pratik\"\n",
    "size = 0\n",
    "my_name = dict()\n",
    "print(\"my string is \" + my_str)\n",
    "print()\n",
    "for a in my_str:\n",
    "    size += 1\n",
    "    my_name[size] = a\n",
    "\n",
    "print(\"size of my_str pratik is \" + str(size))\n",
    "print(my_name)"
   ]
  },
  {
   "cell_type": "code",
   "execution_count": 2,
   "id": "100108bd",
   "metadata": {},
   "outputs": [
    {
     "name": "stdout",
     "output_type": "stream",
     "text": [
      "Updated dictionary: {1: 'p', 2: 'r', 3: 'a', 4: 't', 5: 'i', 6: 'k', 7: 1}\n",
      "Type of my_name: <class 'dict'>\n"
     ]
    }
   ],
   "source": [
    "letter = 'a'\n",
    "occurrence = my_str.count(letter)\n",
    "\n",
    "my_name[size + 1] = occurrence\n",
    "\n",
    "print(\"Updated dictionary:\", my_name)\n",
    "print(\"Type of my_name:\", type(my_name))"
   ]
  },
  {
   "cell_type": "code",
   "execution_count": 15,
   "id": "7bf8e8f2-739d-4d9e-bfd4-5f17095a8ba2",
   "metadata": {},
   "outputs": [
    {
     "name": "stdout",
     "output_type": "stream",
     "text": [
      "Your Birthday: 18/12/2005\n",
      "Day:18\n",
      "Month:12\n",
      "Year:2005\n",
      "Separated Dictionary: {'day': '18', 'month': '12', 'year': '2005'}\n",
      "Joining Now Dictionary: 18 12 2005\n",
      "18 December 2005\n"
     ]
    }
   ],
   "source": [
    "birthday = \"18/12/2005\"\n",
    "print(\"Your Birthday: \" + birthday)\n",
    "day, month, year = birthday.split('/')\n",
    "print(\"Day:\" + day)\n",
    "print(\"Month:\"+month)\n",
    "print(\"Year:\"+year)\n",
    "\n",
    "birthday_dict = {\n",
    "    \"day\":day,\n",
    "    \"month\":month,\n",
    "    \"year\":year\n",
    "}\n",
    "\n",
    "print(\"Separated Dictionary: \" + str(birthday_dict))\n",
    "print(\"Joining Now Dictionary: \" + \" \".join(birthday_dict.values()))\n",
    "\n",
    "months = {\n",
    "    \"01\": \"January\",\n",
    "    \"02\": \"February\",\n",
    "    \"03\": \"March\",\n",
    "    \"04\": \"April\",\n",
    "    \"05\": \"May\",\n",
    "    \"06\": \"June\",\n",
    "    \"07\": \"July\",\n",
    "    \"08\": \"August\",\n",
    "    \"09\": \"September\",\n",
    "    \"10\": \"October\",\n",
    "    \"11\": \"November\",\n",
    "    \"12\": \"December\"\n",
    "}\n",
    "\n",
    "print(str(birthday_dict[\"day\"]) + \" \" + months[birthday_dict[\"month\"]] + \" \" + birthday_dict[\"year\"])\n"
   ]
  }
 ],
 "metadata": {
  "kernelspec": {
   "display_name": "Python 3",
   "language": "python",
   "name": "python3"
  },
  "language_info": {
   "codemirror_mode": {
    "name": "ipython",
    "version": 3
   },
   "file_extension": ".py",
   "mimetype": "text/x-python",
   "name": "python",
   "nbconvert_exporter": "python",
   "pygments_lexer": "ipython3",
   "version": "3.10.0"
  }
 },
 "nbformat": 4,
 "nbformat_minor": 5
}
