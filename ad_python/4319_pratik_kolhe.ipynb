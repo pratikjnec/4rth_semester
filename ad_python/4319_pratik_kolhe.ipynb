{
 "cells": [
  {
   "cell_type": "code",
   "execution_count": 104,
   "id": "b7c03a98-a6af-480f-9606-48693ac513fd",
   "metadata": {},
   "outputs": [
    {
     "name": "stdout",
     "output_type": "stream",
     "text": [
      "my dictionary is {'name': 'pratik', 'lastname': 'kolhe', 'class': 'cse sy3', 'prn': 22404319}\n",
      "\n",
      "from my dictionary prn is 22404319\n",
      "\n",
      "type of my_dictionary <class 'dict'>\n",
      "\n",
      "created random_name using fromkeys function of dict class {1: 'pratik', 2: 'sakshi', 3: 'pranav', 4: 'unnati', 5: 'atharva'}\n",
      "\n",
      "pratik\n"
     ]
    }
   ],
   "source": [
    "my_dictionary = {\n",
    "    \"name\":\"pratik\",\n",
    "    \"lastname\":\"kolhe\",\n",
    "    \"class\":\"cse sy3\",\n",
    "    \"prn\":22404319\n",
    "}\n",
    "\n",
    "print(\"my dictionary is \" + str(my_dictionary))\n",
    "print()\n",
    "print(\"from my dictionary prn is \" + str(my_dictionary[\"prn\"]))\n",
    "print()\n",
    "print(\"type of my_dictionary \" + str(type(my_dictionary)))\n",
    "print()\n",
    "\n",
    "random_name = dict()\n",
    "random_name_keys = [1, 2, 3, 4, 5]\n",
    "random_name_values = [\"pratik\", \"sakshi\", \"pranav\", \"unnati\", \"atharva\"]\n",
    "random_name = dict(zip(random_name_keys, random_name_values))\n",
    "print(\"created random_name using fromkeys function of dict class \" + str(random_name))\n",
    "\n",
    "some = dict(\n",
    "    {\"name\":\"pratik\"}\n",
    ")\n",
    "print()\n",
    "print(some[\"name\"])\n"
   ]
  },
  {
   "cell_type": "code",
   "execution_count": 100,
   "id": "fe503da2-a419-433b-9000-0e84de995828",
   "metadata": {},
   "outputs": [
    {
     "name": "stdout",
     "output_type": "stream",
     "text": [
      "Dictionary: {'101': 'Alice', '102': 'Bob', '103': 'Charlie'}\n",
      "List: ['Math', 'Physics', 'Chemistry']\n",
      "String: Hello, Alice!\n",
      "Updated Dictionary: {'101': 'Alice', '102': 'Bob', '103': 'Charlie', '104': 'David'}\n",
      "Updated List: ['Math', 'Physics', 'Chemistry', 'Biology']\n",
      "Uppercase String: HELLO, ALICE!\n"
     ]
    }
   ],
   "source": [
    "students = {\n",
    "    '101': 'Alice',\n",
    "    '102': 'Bob',\n",
    "    '103': 'Charlie'\n",
    "}\n",
    "\n",
    "subjects = ['Math', 'Physics', 'Chemistry']\n",
    "\n",
    "greeting = 'Hello, ' + students['101'] + '!'\n",
    "\n",
    "print('Dictionary:', students)\n",
    "print('List:', subjects)\n",
    "print('String:', greeting)\n",
    "\n",
    "students['104'] = 'David'\n",
    "print('Updated Dictionary:', students)\n",
    "\n",
    "subjects.append('Biology')\n",
    "print('Updated List:', subjects)\n",
    "\n",
    "welcome_message = greeting.upper()\n",
    "print('Uppercase String:', welcome_message)\n"
   ]
  },
  {
   "cell_type": "code",
   "execution_count": 101,
   "id": "fc1c1314-542b-4510-b794-332d4418714c",
   "metadata": {
    "scrolled": true
   },
   "outputs": [
    {
     "name": "stdout",
     "output_type": "stream",
     "text": [
      "[[1, 2, 3], [5, 6, 7]]\n",
      "\n",
      "type of l <class 'list'>\n",
      "type of al <class 'list'>\n",
      "type of bl <class 'list'>\n",
      "\n",
      "[[1, 2, 3], [5, 6, 7]]\n",
      "\n",
      "2\n"
     ]
    }
   ],
   "source": [
    "l = [1, 2, 3]\n",
    "al = [5, 6, 7]\n",
    "bl = []\n",
    "bl.append(l)\n",
    "bl.append(al)\n",
    "print(bl)\n",
    "print()\n",
    "print(\"type of l \" + str(type(l)))\n",
    "print(\"type of al \" + str(type(al)))\n",
    "print(\"type of bl \" + str(type(bl)))\n",
    "print()\n",
    "cl = [l, al]\n",
    "print(cl)\n",
    "print()\n",
    "print(cl[0][1])\n"
   ]
  },
  {
   "cell_type": "code",
   "execution_count": 1,
   "id": "d6ba3b37-4b6d-4951-b979-d3b02db8de37",
   "metadata": {},
   "outputs": [
    {
     "name": "stdout",
     "output_type": "stream",
     "text": [
      "my string is pratik\n",
      "\n",
      "size of my_str pratik is 6\n",
      "{1: 'p', 2: 'r', 3: 'a', 4: 't', 5: 'i', 6: 'k'}\n"
     ]
    }
   ],
   "source": [
    "my_str = \"pratik\"\n",
    "size = 0\n",
    "my_name = dict()\n",
    "print(\"my string is \" + my_str)\n",
    "print()\n",
    "for a in my_str:\n",
    "    size += 1\n",
    "    my_name[size] = a\n",
    "\n",
    "print(\"size of my_str pratik is \" + str(size))\n",
    "print(my_name)"
   ]
  },
  {
   "cell_type": "code",
   "execution_count": 2,
   "id": "100108bd",
   "metadata": {},
   "outputs": [
    {
     "name": "stdout",
     "output_type": "stream",
     "text": [
      "Updated dictionary: {1: 'p', 2: 'r', 3: 'a', 4: 't', 5: 'i', 6: 'k', 7: 1}\n",
      "Type of my_name: <class 'dict'>\n"
     ]
    }
   ],
   "source": [
    "letter = 'a'\n",
    "occurrence = my_str.count(letter)\n",
    "\n",
    "my_name[size + 1] = occurrence\n",
    "\n",
    "print(\"Updated dictionary:\", my_name)\n",
    "print(\"Type of my_name:\", type(my_name))"
   ]
  },
  {
   "cell_type": "code",
   "execution_count": 4,
   "id": "7bf8e8f2-739d-4d9e-bfd4-5f17095a8ba2",
   "metadata": {},
   "outputs": [
    {
     "name": "stdout",
     "output_type": "stream",
     "text": [
      "Your Birthday: 18/12/2005\n",
      "Day:18\n",
      "Month:12\n",
      "Year:2005\n",
      "Separated Dictionary: {'day': '18', 'month': '12', 'year': '2005'}\n",
      "Joining Now Dictionary: 18 12 2005\n",
      "18 December 2005\n",
      "18 December 2005\n"
     ]
    }
   ],
   "source": [
    "birthday = \"18/12/2005\"\n",
    "print(\"Your Birthday: \" + birthday)\n",
    "day, month, year = birthday.split('/')\n",
    "print(\"Day:\" + day)\n",
    "print(\"Month:\"+month)\n",
    "print(\"Year:\"+year)\n",
    "\n",
    "birthday_dict = {\n",
    "    \"day\":day,\n",
    "    \"month\":month,\n",
    "    \"year\":year\n",
    "}\n",
    "\n",
    "print(\"Separated Dictionary: \" + str(birthday_dict))\n",
    "print(\"Joining Now Dictionary: \" + \" \".join(birthday_dict.values()))\n",
    "\n",
    "months = {\n",
    "    \"01\": \"January\",\n",
    "    \"02\": \"February\",\n",
    "    \"03\": \"March\",\n",
    "    \"04\": \"April\",\n",
    "    \"05\": \"May\",\n",
    "    \"06\": \"June\",\n",
    "    \"07\": \"July\",\n",
    "    \"08\": \"August\",\n",
    "    \"09\": \"September\",\n",
    "    \"10\": \"October\",\n",
    "    \"11\": \"November\",\n",
    "    \"12\": \"December\"\n",
    "}\n",
    "\n",
    "print(str(birthday_dict[\"day\"]) + \" \" + months[birthday_dict[\"month\"]] + \" \" + birthday_dict[\"year\"])\n",
    "print(f'{birthday_dict[\"day\"]} { months[birthday_dict[\"month\"]] } {birthday_dict[\"year\"]}')\n"
   ]
  },
  {
   "cell_type": "code",
   "execution_count": null,
   "id": "674bc3ef",
   "metadata": {},
   "outputs": [],
   "source": [
    "# Input matrices\n",
    "matrix1 = [[1, 2], [3, 4]]\n",
    "matrix2 = [[4, 5], [6, 7]]\n",
    "\n",
    "print(\"Printing elements of first matrix\")\n",
    "for row in matrix1:\n",
    "\tfor element in row:\n",
    "\t\tprint(element, end=\" \")\n",
    "\tprint()\n",
    "\n",
    "print(\"Printing elements of second matrix\")\n",
    "for row in matrix2:\n",
    "\tfor element in row:\n",
    "\t\tprint(element, end=\" \")\n",
    "\tprint()\n",
    "\n",
    "# Subtracting two matrices\n",
    "result = [[0, 0], [0, 0]]\n",
    "for i in range(len(matrix1)):\n",
    "\tfor j in range(len(matrix1[0])):\n",
    "\t\tresult[i][j] = matrix1[i][j] - matrix2[i][j]\n",
    "\n",
    "# Printing the result\n",
    "print(\"Subtraction of two matrix\")\n",
    "for row in result:\n",
    "\tfor element in row:\n",
    "\t\tprint(element, end=\" \")\n",
    "\tprint()\n",
    "\n",
    "# Addition two matrices\n",
    "result = [[0, 0], [0, 0]]\n",
    "for i in range(len(matrix1)):\n",
    "\tfor j in range(len(matrix1[0])):\n",
    "\t\tresult[i][j] = matrix1[i][j] + matrix2[i][j]\n",
    "\n",
    "# Addition the result\n",
    "print(\"Subtraction of two matrix\")\n",
    "for row in result:\n",
    "\tfor element in row:\n",
    "\t\tprint(element, end=\" \")\n",
    "\tprint()\n"
   ]
  },
  {
   "cell_type": "code",
   "execution_count": 5,
   "id": "3c83a02c",
   "metadata": {},
   "outputs": [
    {
     "name": "stdout",
     "output_type": "stream",
     "text": [
      "Addition of matrix is \n",
      "[[ 9 10  9]\n",
      " [11  9  9]]\n",
      "\n",
      "\n",
      "Substraction of matrix is \n",
      "[[-1  0 -1]\n",
      " [ 1 -1 -1]]\n"
     ]
    },
    {
     "ename": "ValueError",
     "evalue": "shapes (2,3) and (2,3) not aligned: 3 (dim 1) != 2 (dim 0)",
     "output_type": "error",
     "traceback": [
      "\u001b[1;31m---------------------------------------------------------------------------\u001b[0m",
      "\u001b[1;31mValueError\u001b[0m                                Traceback (most recent call last)",
      "Cell \u001b[1;32mIn[5], line 9\u001b[0m\n\u001b[0;32m      7\u001b[0m \u001b[38;5;28mprint\u001b[39m(\u001b[38;5;124m\"\u001b[39m\u001b[38;5;124mAddition of matrix is \u001b[39m\u001b[38;5;130;01m\\n\u001b[39;00m\u001b[38;5;124m\"\u001b[39m \u001b[38;5;241m+\u001b[39m \u001b[38;5;28mstr\u001b[39m(np\u001b[38;5;241m.\u001b[39madd(m, n)))\n\u001b[0;32m      8\u001b[0m \u001b[38;5;28mprint\u001b[39m(\u001b[38;5;124m\"\u001b[39m\u001b[38;5;130;01m\\n\u001b[39;00m\u001b[38;5;130;01m\\n\u001b[39;00m\u001b[38;5;124mSubstraction of matrix is \u001b[39m\u001b[38;5;130;01m\\n\u001b[39;00m\u001b[38;5;124m\"\u001b[39m\u001b[38;5;241m+\u001b[39m\u001b[38;5;28mstr\u001b[39m(np\u001b[38;5;241m.\u001b[39msubtract(m, n)))\n\u001b[1;32m----> 9\u001b[0m \u001b[38;5;28mprint\u001b[39m(\u001b[38;5;124m\"\u001b[39m\u001b[38;5;130;01m\\n\u001b[39;00m\u001b[38;5;130;01m\\n\u001b[39;00m\u001b[38;5;124mMultiplication of matrix is \u001b[39m\u001b[38;5;130;01m\\n\u001b[39;00m\u001b[38;5;124m\"\u001b[39m, \u001b[43mnp\u001b[49m\u001b[38;5;241;43m.\u001b[39;49m\u001b[43mdot\u001b[49m\u001b[43m(\u001b[49m\u001b[43mm\u001b[49m\u001b[43m,\u001b[49m\u001b[43m \u001b[49m\u001b[43mn\u001b[49m\u001b[43m)\u001b[49m)\n\u001b[0;32m     10\u001b[0m \u001b[38;5;28mprint\u001b[39m(\u001b[38;5;124m\"\u001b[39m\u001b[38;5;130;01m\\n\u001b[39;00m\u001b[38;5;124mTranspose of matrix is \u001b[39m\u001b[38;5;130;01m\\n\u001b[39;00m\u001b[38;5;124m\"\u001b[39m\u001b[38;5;241m+\u001b[39m\u001b[38;5;28mstr\u001b[39m(np\u001b[38;5;241m.\u001b[39mtranspose(m)))\n",
      "\u001b[1;31mValueError\u001b[0m: shapes (2,3) and (2,3) not aligned: 3 (dim 1) != 2 (dim 0)"
     ]
    }
   ],
   "source": [
    "# %pip install numpy\n",
    "import numpy as np\n",
    "\n",
    "m = [[4, 5, 4], [6, 4, 4]]\n",
    "n = [[5, 5, 5], [5, 5, 5]]\n",
    "multi = np.dot(m,n)\n",
    "print(\"Addition of matrix is \\n\" + str(np.add(m, n)))\n",
    "print(\"\\n\\nSubstraction of matrix is \\n\"+str(np.subtract(m, n)))\n",
    "print(\"\\n\\nMultiplication of matrix is \\n\", multi)\n",
    "print(\"\\nTranspose of matrix is \\n\"+str(np.transpose(m)))"
   ]
  },
  {
   "cell_type": "code",
   "execution_count": 13,
   "id": "7c4fdae2",
   "metadata": {},
   "outputs": [
    {
     "name": "stdout",
     "output_type": "stream",
     "text": [
      "taken list is  [1, 2, 3, 4, 5, 6, 7, 8, 9, 10, 1, 1, 1, 2, 2, 2, 2, 3]\n",
      "mean using numpy is 3.8333333333333335\n",
      "mean using manual is 3.8333333333333335\n",
      "mean using loop is 3.8333333333333335\n",
      "median using numpy is 2.5\n",
      "median using manual is 2.5\n",
      "\n",
      "\n",
      "Bincount Function of numpy [0 4 5 2 1 1 1 1 1 1 1]\n",
      "mode using numpy is 2\n",
      "mode using manual is 2\n"
     ]
    }
   ],
   "source": [
    "l = [1, 2, 3, 4, 5, 6, 7, 8, 9, 10, 1, 1, 1, 2, 2, 2, 2, 3,]\n",
    "\n",
    "print(\"taken list is \", l)\n",
    "\n",
    "# mean program here\n",
    "mean_numpy = np.mean(l)\n",
    "mean_manual = sum(l) / len(l)\n",
    "mean_loop = 0\n",
    "for a in l:\n",
    "    mean_loop += a\n",
    "mean_loop = mean_loop / len(l)\n",
    "\n",
    "print(\"mean using numpy is \" + str(mean_numpy))\n",
    "print(\"mean using manual is \" + str(mean_manual))\n",
    "print(\"mean using loop is \" + str(mean_loop))\n",
    "\n",
    "# median program here\n",
    "l = [1, 2, 3, 4, 5, 6, 7, 8, 9, 10, 1, 1, 1, 2, 2, 2, 2, 3,]\n",
    "l.sort()\n",
    "if len(l) % 2 == 0:\n",
    "    median = (l[len(l) // 2] + l[len(l) // 2 - 1]) / 2\n",
    "else:\n",
    "    median = l[len(l) // 2]\n",
    "median_numpy = np.median(l)\n",
    "print(\"median using numpy is \" + str(median_numpy))\n",
    "print(\"median using manual is \" + str(median))\n",
    "\n",
    "# mode program here\n",
    "l = [1, 2, 3, 4, 5, 6, 7, 8, 9, 10, 1, 1, 1, 2, 2, 2, 2, 3,]\n",
    "most_common = 0\n",
    "print()\n",
    "print()\n",
    "print(\"Bincount Function of numpy \"+str(np.bincount(l)))\n",
    "print(\"mode using numpy is \" + str(np.argmax(np.bincount(l))))\n",
    "for a in l:\n",
    "    if l.count(a) > most_common:\n",
    "        most_common = a\n",
    "print(\"mode using manual is \" + str(most_common))\n"
   ]
  },
  {
   "cell_type": "code",
   "execution_count": 14,
   "id": "c892499d",
   "metadata": {},
   "outputs": [
    {
     "name": "stdout",
     "output_type": "stream",
     "text": [
      "mean using statistics is 3.8333333333333335\n",
      "median using statistics is 2.5\n",
      "mode using statistics is 2\n"
     ]
    }
   ],
   "source": [
    "import statistics as st\n",
    "\n",
    "l = [1, 2, 3, 4, 5, 6, 7, 8, 9, 10, 1, 1, 1, 2, 2, 2, 2, 3]\n",
    "print(\"mean using statistics is \" + str(st.mean(l)))\n",
    "print(\"median using statistics is \" + str(st.median(l)))\n",
    "print(\"mode using statistics is \" + str(st.mode(l)))"
   ]
  },
  {
   "cell_type": "code",
   "execution_count": 5,
   "id": "c5c88b95",
   "metadata": {},
   "outputs": [
    {
     "name": "stdout",
     "output_type": "stream",
     "text": [
      "mean using my function is 3.8333333333333335\n",
      "median using my function is 2.5\n",
      "mode using my function is 2\n"
     ]
    }
   ],
   "source": [
    "# creating custom functions for mean, median and mode\n",
    "def my_mean(l):\n",
    "    mean_loop = 0\n",
    "    for a in l:\n",
    "        mean_loop += a\n",
    "    mean_loop = mean_loop / len(l)\n",
    "    return mean_loop\n",
    "\n",
    "def my_median(l):\n",
    "    l.sort()\n",
    "    if len(l) % 2 == 0:\n",
    "        median = (l[len(l) // 2] + l[len(l) // 2 - 1]) / 2\n",
    "    else:\n",
    "        median = l[len(l) // 2]\n",
    "    return median\n",
    "\n",
    "def my_mode(l):\n",
    "    most_common = 0\n",
    "    for a in l:\n",
    "        if l.count(a) > most_common:\n",
    "            most_common = a\n",
    "    return most_common\n",
    "\n",
    "#calling my functions\n",
    "l = [1, 2, 3, 4, 5, 6, 7, 8, 9, 10, 1, 1, 1, 2, 2, 2, 2, 3]\n",
    "mean_using_myfunction = my_mean(l)\n",
    "median_using_myfunction = my_median(l)\n",
    "mode_using_myfunction = my_mode(l)\n",
    "print(\"mean using my function is \" + str(mean_using_myfunction))\n",
    "print(\"median using my function is \" + str(median_using_myfunction))\n",
    "print(\"mode using my function is \" + str(mode_using_myfunction))"
   ]
  },
  {
   "cell_type": "code",
   "execution_count": 2,
   "id": "aa642850",
   "metadata": {},
   "outputs": [
    {
     "name": "stdout",
     "output_type": "stream",
     "text": [
      "Current date and time is 2025-01-19 18:07:21\n",
      "Current year is 2025\n",
      "Current month is 01\n",
      "Current day is 19\n",
      "Current hour is 18\n",
      "Current minute is 07\n",
      "Current second is 21\n"
     ]
    }
   ],
   "source": [
    "#current date and time\n",
    "import datetime\n",
    "\n",
    "now = datetime.datetime.now()\n",
    "print(\"Current date and time is \" + now.strftime(\"%Y-%m-%d %H:%M:%S\"))\n",
    "print(\"Current year is \" + now.strftime(\"%Y\"))\n",
    "print(\"Current month is \" + now.strftime(\"%m\"))\n",
    "print(\"Current day is \" + now.strftime(\"%d\"))\n",
    "print(\"Current hour is \" + now.strftime(\"%H\"))\n",
    "print(\"Current minute is \" + now.strftime(\"%M\"))\n",
    "print(\"Current second is \" + now.strftime(\"%S\"))"
   ]
  },
  {
   "cell_type": "code",
   "execution_count": 2,
   "id": "b6ddbdc6",
   "metadata": {},
   "outputs": [
    {
     "name": "stdout",
     "output_type": "stream",
     "text": [
      "Name: Pratik\n",
      "Age: 20\n",
      "Roll Number: 22404319\n",
      "Name: Sakshi\n",
      "Age: 20\n",
      "Roll Number: 22404319\n"
     ]
    }
   ],
   "source": [
    "#demonstrating the use of OOPs concepts\n",
    "class Student:\n",
    "    def __init__(self, name, age, roll_number):\n",
    "        self.name = name\n",
    "        self.age = age\n",
    "        self.roll_number = roll_number\n",
    "\n",
    "    def display(self):\n",
    "        print(\"Name: \" + self.name)\n",
    "        print(\"Age: \" + str(self.age))\n",
    "        print(\"Roll Number: \" + str(self.roll_number))\n",
    "\n",
    "    def update(self, name, age=None, roll_number=None):\n",
    "        self.name = name\n",
    "        if age is not None:\n",
    "            self.age = age\n",
    "        if roll_number is not None:\n",
    "            self.roll_number = roll_number\n",
    "\n",
    "student1 = Student(\"Pratik\", 20, 22404319)\n",
    "student1.display()\n",
    "student1.update(\"Sakshi\")\n",
    "student1.display()"
   ]
  },
  {
   "cell_type": "code",
   "execution_count": 2,
   "id": "f28fdc43",
   "metadata": {},
   "outputs": [
    {
     "name": "stdout",
     "output_type": "stream",
     "text": [
      "[[0, 0]]\n"
     ]
    }
   ],
   "source": [
    "A = [[1,2],[4,5]] \n",
    "B = [[7,8],[9,10]] \n",
    "rows = len(A) \n",
    "cols = len(A[0]) \n",
    "\n",
    "# Element wise addition \n",
    "# C = [[0 for i in range(cols)] for j in range(rows)] \n",
    "C = [[0 for i in range(cols)]] \n",
    "print(C)"
   ]
  },
  {
   "cell_type": "code",
   "execution_count": null,
   "id": "c843d045",
   "metadata": {},
   "outputs": [],
   "source": []
  }
 ],
 "metadata": {
  "kernelspec": {
   "display_name": "Python 3",
   "language": "python",
   "name": "python3"
  },
  "language_info": {
   "codemirror_mode": {
    "name": "ipython",
    "version": 3
   },
   "file_extension": ".py",
   "mimetype": "text/x-python",
   "name": "python",
   "nbconvert_exporter": "python",
   "pygments_lexer": "ipython3",
   "version": "3.10.0"
  }
 },
 "nbformat": 4,
 "nbformat_minor": 5
}
