{
 "cells": [
  {
   "cell_type": "code",
   "execution_count": 2,
   "metadata": {},
   "outputs": [
    {
     "name": "stdout",
     "output_type": "stream",
     "text": [
      "'P': 1\n",
      "'r': 1\n",
      "'a': 1\n",
      "'t': 1\n",
      "'i': 1\n",
      "'k': 1\n",
      "' ': 1\n",
      "'K': 1\n",
      "'o': 1\n",
      "'l': 1\n",
      "'h': 1\n",
      "'e': 1\n"
     ]
    }
   ],
   "source": [
    "# Initialize the string\n",
    "input_string = \"Pratik Kolhe\"\n",
    "\n",
    "# Initialize an empty dictionary to store character counts\n",
    "char_count = {}\n",
    "\n",
    "# Loop through each character in the string\n",
    "for char in input_string:\n",
    "    # If the character is already in the dictionary, increment its count\n",
    "    if char in char_count:\n",
    "        char_count[char] += 1\n",
    "    # Otherwise, add the character to the dictionary with a count of 1\n",
    "    else:\n",
    "        char_count[char] = 1\n",
    "\n",
    "# Display the character count dictionary\n",
    "for char, count in char_count.items():\n",
    "    print(f\"'{char}': {count}\")\n"
   ]
  },
  {
   "cell_type": "code",
   "execution_count": null,
   "metadata": {},
   "outputs": [],
   "source": []
  }
 ],
 "metadata": {
  "kernelspec": {
   "display_name": "Python 3",
   "language": "python",
   "name": "python3"
  },
  "language_info": {
   "codemirror_mode": {
    "name": "ipython",
    "version": 3
   },
   "file_extension": ".py",
   "mimetype": "text/x-python",
   "name": "python",
   "nbconvert_exporter": "python",
   "pygments_lexer": "ipython3",
   "version": "3.10.0"
  }
 },
 "nbformat": 4,
 "nbformat_minor": 2
}
